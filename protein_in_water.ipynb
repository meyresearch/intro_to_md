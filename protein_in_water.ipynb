{
 "cells": [
  {
   "cell_type": "markdown",
   "metadata": {},
   "source": [
    "Run the following cell to install dependencies required to run this notebook"
   ]
  },
  {
   "cell_type": "code",
   "execution_count": null,
   "metadata": {},
   "outputs": [],
   "source": [
    "!pip install -r https://raw.githubusercontent.com/meyresearch/intro_to_md/main/requirements.txt"
   ]
  },
  {
   "cell_type": "code",
   "execution_count": null,
   "metadata": {},
   "outputs": [],
   "source": [
    "!pip install openmm nglview==2.7.7 ipywidgets==7.7.1"
   ]
  },
  {
   "cell_type": "markdown",
   "metadata": {},
   "source": [
    "Run the following cell to clone the files required to run this notebookk"
   ]
  },
  {
   "cell_type": "code",
   "execution_count": null,
   "metadata": {},
   "outputs": [],
   "source": [
    "import os\n",
    "\n",
    "REPO_URL = \"https://github.com/meyresearch/intro_to_md.git\"\n",
    "REPO_DIR = \"intro_to_md\"\n",
    "\n",
    "if not os.path.isdir(REPO_DIR):\n",
    "    print(f\"Cloning {REPO_URL}…\")\n",
    "    !git clone --depth 1 $REPO_URL\n",
    "\n",
    "%cd $REPO_DIR"
   ]
  },
  {
   "cell_type": "code",
   "execution_count": null,
   "metadata": {},
   "outputs": [],
   "source": [
    "from google.colab import drive\n",
    "drive.mount('/content/drive')\n",
    "\n",
    "REPO = \"https://github.com/meyresearch/intro_to_md.git\"\n",
    "DEST = \"/content/drive/MyDrive/intro_to_md\"\n",
    "\n",
    "if not os.path.isdir(DEST):\n",
    "    print(f\"Cloning into Drive…\")\n",
    "    !git clone --depth 1 $REPO $DEST\n",
    "\n",
    "%cd $DEST"
   ]
  },
  {
   "cell_type": "code",
   "execution_count": null,
   "metadata": {},
   "outputs": [],
   "source": [
    "from google.colab import output\n",
    "output.disable_custom_widget_manager()"
   ]
  },
  {
   "cell_type": "markdown",
   "metadata": {},
   "source": [
    "# Simulating a protein in a box of water"
   ]
  },
  {
   "cell_type": "markdown",
   "metadata": {},
   "source": [
    "Based on [Justin Lemkul's lysozyme in water tutorial](http://www.mdtutorials.com/gmx/lysozyme/index.html) and the [OpenMM tutorial](https://openmm.github.io/openmm-cookbook/latest/notebooks/tutorials/protein_in_water.html#Protein-in-Water)."
   ]
  },
  {
   "cell_type": "markdown",
   "metadata": {},
   "source": [
    "# 1. Import libraries"
   ]
  },
  {
   "cell_type": "code",
   "execution_count": null,
   "metadata": {},
   "outputs": [],
   "source": [
    "from openmm.app.pdbfile import PDBFile\n",
    "from openmm.app import PME, HBonds, Simulation, pdbreporter, statedatareporter, dcdreporter\n",
    "from openmm import LangevinMiddleIntegrator, Platform, MonteCarloBarostat, MinimizationReporter\n",
    "from openmm.app.forcefield import ForceField\n",
    "from openmm.app.modeller import Modeller\n",
    "import openmm.unit as unit\n",
    "import nglview as nv\n",
    "import sys"
   ]
  },
  {
   "cell_type": "markdown",
   "metadata": {},
   "source": [
    "# 2. Load in the PDB file"
   ]
  },
  {
   "cell_type": "code",
   "execution_count": null,
   "metadata": {},
   "outputs": [],
   "source": [
    "pdb = PDBFile(\"input/kpc2.pdb\")"
   ]
  },
  {
   "cell_type": "markdown",
   "metadata": {},
   "source": [
    "# 3. Define the force field and water model"
   ]
  },
  {
   "cell_type": "code",
   "execution_count": null,
   "metadata": {},
   "outputs": [],
   "source": [
    "forcefield = ForceField(\"amber14-all.xml\", \"amber14/tip3p.xml\")"
   ]
  },
  {
   "cell_type": "markdown",
   "metadata": {},
   "source": [
    "# 4. Solvate the protein\n",
    "\n",
    "Since proteins are found inside the body, we simulate the enivronment in the body with a box of water. We also add neutralising Na and Cl ions, so that the total charge in the box of water is neutral. \n",
    "\n",
    "This command creates a box that has edges at least 1 nm away from the solute and fills it with water molecules. "
   ]
  },
  {
   "cell_type": "code",
   "execution_count": null,
   "metadata": {},
   "outputs": [],
   "source": [
    "modeller = Modeller(pdb.topology, pdb.positions)\n",
    "modeller.addSolvent(forcefield, padding=1.0*unit.nanometer)"
   ]
  },
  {
   "cell_type": "markdown",
   "metadata": {},
   "source": [
    "# 5. Visualise the solvated system"
   ]
  },
  {
   "cell_type": "markdown",
   "metadata": {},
   "source": [
    "First, save a temporary PDB file of the solvated system:"
   ]
  },
  {
   "cell_type": "code",
   "execution_count": null,
   "metadata": {},
   "outputs": [],
   "source": [
    "pdbfile = PDBFile.writeFile(modeller.topology, modeller.positions, open(\"results/output/solvated.pdb\", \"w\"))"
   ]
  },
  {
   "cell_type": "code",
   "execution_count": null,
   "metadata": {},
   "outputs": [],
   "source": [
    "view = nv.show_file(\"results/output/solvated.pdb\") \n",
    "view.add_representation(\"cartoon\", colorScheme=\"residueindex\")\n",
    "view"
   ]
  },
  {
   "cell_type": "code",
   "execution_count": null,
   "metadata": {},
   "outputs": [],
   "source": [
    "view.add_representation(\"ball+stick\", selection=\"water\")\n",
    "view"
   ]
  },
  {
   "cell_type": "markdown",
   "metadata": {},
   "source": [
    "# 6. Setup the simulation description \n",
    "\n",
    "We now need to combine our molecular topology and the forcefield to create a complete description of the system. This is done using the ForceField object’s `createSystem()` function. We then create the integrator, and combine the integrator and system to create the `Simulation` object. Finally, we set the initial atomic positions."
   ]
  },
  {
   "cell_type": "code",
   "execution_count": null,
   "metadata": {},
   "outputs": [],
   "source": [
    "# First, define the system \n",
    "system = forcefield.createSystem(modeller.topology, \n",
    "                                 nonbondedMethod=PME, \n",
    "                                 nonbondedCutoff=1.0*unit.nanometer, \n",
    "                                 constraints=HBonds)\n"
   ]
  },
  {
   "cell_type": "code",
   "execution_count": null,
   "metadata": {},
   "outputs": [],
   "source": [
    "# Define the integrator, i.e. how the simulation is calculated at each step\n",
    "integrator = LangevinMiddleIntegrator(300*unit.kelvin, 1/unit.picosecond, 0.004*unit.picoseconds)\n"
   ]
  },
  {
   "cell_type": "code",
   "execution_count": null,
   "metadata": {},
   "outputs": [],
   "source": [
    "# Define the simulation and set initial positions\n",
    "platform = Platform.getPlatformByName(\"CUDA\") # Allows us to run simulations faster\n",
    "simulation = Simulation(modeller.topology, system, integrator, platform)\n",
    "simulation.context.setPositions(modeller.positions)"
   ]
  },
  {
   "cell_type": "markdown",
   "metadata": {},
   "source": [
    "# 7. Minimise the potential energy of the system\n",
    "\n",
    "We need to make sure we are at a local energy minimum before doing the simulation"
   ]
  },
  {
   "cell_type": "code",
   "execution_count": null,
   "metadata": {},
   "outputs": [],
   "source": [
    "print(\"Minimising energy\")\n",
    "simulation.minimizeEnergy()"
   ]
  },
  {
   "cell_type": "markdown",
   "metadata": {},
   "source": [
    "# 8. Write out minimised coordinates"
   ]
  },
  {
   "cell_type": "code",
   "execution_count": null,
   "metadata": {},
   "outputs": [],
   "source": [
    "# After minimization, get the final positions of the system\n",
    "positions = simulation.context.getState(getPositions=True).getPositions()\n",
    "\n",
    "with open(\"results/output/minimised_structure.pdb\", \"w\") as file:\n",
    "    PDBFile.writeFile(simulation.topology, positions, file)"
   ]
  },
  {
   "cell_type": "markdown",
   "metadata": {},
   "source": [
    "# 9. Relax to the correct temperature\n",
    "\n",
    "First, we want to setup \"reporters\" that allow us to write the trajectory to a file, and then we can run the NVT relaxation simulation."
   ]
  },
  {
   "cell_type": "code",
   "execution_count": null,
   "metadata": {},
   "outputs": [],
   "source": [
    "simulation.reporters.append(dcdreporter.DCDReporter(\"results/output/nvt.dcd\", # define trajectory file to write to \n",
    "                                                    reportInterval=100)) # write every 100 steps to file\n",
    "simulation.reporters.append(statedatareporter.StateDataReporter(\n",
    "    file=\"results/output/temperature.log\",  # define log file to write temperature to\n",
    "    reportInterval=100, # write every 100 steps to file\n",
    "    step=True,\n",
    "    temperature=True\n",
    "))"
   ]
  },
  {
   "cell_type": "code",
   "execution_count": null,
   "metadata": {},
   "outputs": [],
   "source": [
    "print(\"Running NVT\")\n",
    "simulation.step(10000) # run for 10000 * 0.004 picoseconds = 40 ps "
   ]
  },
  {
   "cell_type": "markdown",
   "metadata": {},
   "source": [
    "# 10. Relax to correct pressure \n",
    "\n",
    "We first need to add a barostat to be able to control the pressure (and the volume)"
   ]
  },
  {
   "cell_type": "code",
   "execution_count": null,
   "metadata": {},
   "outputs": [],
   "source": [
    "system.addForce(MonteCarloBarostat(1*unit.bar, 300*unit.kelvin))\n",
    "simulation.context.reinitialize(preserveState=True)\n"
   ]
  },
  {
   "cell_type": "code",
   "execution_count": null,
   "metadata": {},
   "outputs": [],
   "source": [
    "simulation.reporters.append(dcdreporter.DCDReporter(\"results/output/npt.dcd\", # define trajectory file to write to \n",
    "                                                    reportInterval=100)) # write every 100 steps to file\n",
    "simulation.reporters.append(statedatareporter.StateDataReporter(\n",
    "    file=\"results/output/density.log\",  # define log file to write density to\n",
    "    reportInterval=100, # write every 100 steps to file\n",
    "    step=True,\n",
    "    density=True, \n",
    "))"
   ]
  },
  {
   "cell_type": "code",
   "execution_count": null,
   "metadata": {},
   "outputs": [],
   "source": [
    "print(\"Running NPT\")\n",
    "simulation.step(10000) # run for 10000 * 0.004 picoseconds = 40 ps "
   ]
  },
  {
   "cell_type": "markdown",
   "metadata": {},
   "source": [
    "# 11. Run production simulation\n",
    "\n",
    "Now we have reached the correct pressure and temperature, we can run our final simulation. "
   ]
  },
  {
   "cell_type": "code",
   "execution_count": null,
   "metadata": {},
   "outputs": [],
   "source": [
    "simulation.reporters.clear() # Clear all old reporters, so that we don't overwrite them\n",
    "simulation.reporters.append(dcdreporter.DCDReporter(\"results/output/md.dcd\", # define trajectory file to write to \n",
    "                                                    reportInterval=1000)) # write every 1000 steps to file\n",
    "simulation.reporters.append(statedatareporter.StateDataReporter(\n",
    "    file=\"results/output/md.log\",  # define log file to write volume to\n",
    "    reportInterval=1000, # write every 1000 steps to file\n",
    "    step=True,\n",
    "    density=True, \n",
    "    temperature=True,\n",
    "    potentialEnergy=True,\n",
    "))"
   ]
  },
  {
   "cell_type": "code",
   "execution_count": null,
   "metadata": {},
   "outputs": [],
   "source": [
    "print(\"Running MD\")\n",
    "simulation.step(25000)"
   ]
  },
  {
   "cell_type": "code",
   "execution_count": null,
   "metadata": {},
   "outputs": [],
   "source": []
  }
 ],
 "metadata": {
  "kernelspec": {
   "display_name": "md_intro",
   "language": "python",
   "name": "python3"
  },
  "language_info": {
   "codemirror_mode": {
    "name": "ipython",
    "version": 3
   },
   "file_extension": ".py",
   "mimetype": "text/x-python",
   "name": "python",
   "nbconvert_exporter": "python",
   "pygments_lexer": "ipython3",
   "version": "3.13.5"
  }
 },
 "nbformat": 4,
 "nbformat_minor": 4
}
